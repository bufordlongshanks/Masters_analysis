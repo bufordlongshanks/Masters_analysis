{
 "cells": [
  {
   "cell_type": "code",
   "execution_count": 2,
   "id": "f7c66c16",
   "metadata": {},
   "outputs": [],
   "source": [
    "import pandas as pd\n",
    "import numpy as np\n",
    "import matplotlib.pyplot as plt\n",
    "from scipy.optimize import curve_fit\n",
    "import os"
   ]
  },
  {
   "cell_type": "code",
   "execution_count": 182,
   "id": "d2ae0e22",
   "metadata": {},
   "outputs": [
    {
     "data": {
      "text/plain": [
       "['Histogram_2023-03-24_184502.txt',\n",
       " 'Histogram_2023-03-24_184548.txt',\n",
       " 'Histogram_2023-03-24_184627.txt',\n",
       " 'Histogram_2023-03-24_184711.txt',\n",
       " 'Histogram_2023-03-24_184741.txt',\n",
       " 'Histogram_2023-03-24_184811.txt',\n",
       " 'Histogram_2023-03-24_184839.txt',\n",
       " 'Histogram_2023-03-24_184909.txt',\n",
       " 'Histogram_2023-03-24_184943.txt',\n",
       " 'Histogram_2023-03-24_185106.txt',\n",
       " 'Histogram_2023-03-24_185141.txt',\n",
       " 'Histogram_2023-03-24_185221.txt',\n",
       " 'Histogram_2023-03-24_185251.txt',\n",
       " 'Histogram_2023-03-24_185329.txt',\n",
       " 'Histogram_2023-03-24_185403.txt',\n",
       " 'Histogram_2023-03-24_185440.txt']"
      ]
     },
     "execution_count": 182,
     "metadata": {},
     "output_type": "execute_result"
    }
   ],
   "source": [
    "os.listdir()"
   ]
  },
  {
   "cell_type": "code",
   "execution_count": 179,
   "id": "3fda18e1",
   "metadata": {},
   "outputs": [],
   "source": [
    "os.chdir('')"
   ]
  },
  {
   "cell_type": "code",
   "execution_count": 181,
   "id": "c0449e7c",
   "metadata": {},
   "outputs": [],
   "source": [
    "os.chdir(os.listdir()[-9])"
   ]
  },
  {
   "cell_type": "code",
   "execution_count": 84,
   "id": "42da9e1d",
   "metadata": {},
   "outputs": [],
   "source": [
    "os.listdir()\n",
    "file = os.listdir()[6]"
   ]
  },
  {
   "cell_type": "code",
   "execution_count": 12,
   "id": "96ed7320",
   "metadata": {},
   "outputs": [],
   "source": [
    "df = pd.read_csv(file, delim_whitespace=True)"
   ]
  },
  {
   "cell_type": "code",
   "execution_count": 17,
   "id": "719480a4",
   "metadata": {},
   "outputs": [],
   "source": [
    "t_uncs = []\n",
    "t_out = []\n",
    "for file in os.listdir():\n",
    "    df = pd.read_csv(file, delim_whitespace=True)\n",
    "    xmin = df.iloc[df.iloc[:,1].idxmax(),0]+100\n",
    "    xmax =xmin+10000\n",
    "    t = df.iloc[:,0]\n",
    "    mask = (t<xmax)&(t>xmin)\n",
    "    t=t[mask]\n",
    "    counts = df.iloc[:,1][mask]\n",
    "    #plt.xlim(xmin,xmax)\n",
    "    plt.semilogy(t,counts)\n",
    "    p0 = [1000, 1000,3]  # Initial guess for the parameters\n",
    "    #params, unc = curve_fit(expo, t, counts, p0=p0,sigma=np.sqrt(counts))\n",
    "    uncs = np.sqrt(np.diag(unc))\n",
    "    t_uncs.append(uncs[1])\n",
    "    t_out.append(params[1])"
   ]
  },
  {
   "cell_type": "code",
   "execution_count": 18,
   "id": "4755da38",
   "metadata": {},
   "outputs": [
    {
     "name": "stdout",
     "output_type": "stream",
     "text": [
      "[1522.7746795581636, 1718.5642932275862, 1555.9612602383022, 1633.6976763029272, 1547.7101353301541, 1561.0565827216838, 1596.743210362098, 1621.4475284219045, 1632.2002406741246, 1521.2657268721744, 1465.0097829523072, 1528.2281067139998, 1548.083535199804, 1571.801416287924, 1609.4594179310916, 1619.1658094343463]\n"
     ]
    }
   ],
   "source": [
    "\n",
    "print(t_out)"
   ]
  },
  {
   "cell_type": "code",
   "execution_count": 19,
   "id": "ae141a13",
   "metadata": {},
   "outputs": [
    {
     "ename": "NameError",
     "evalue": "name 't_out_new' is not defined",
     "output_type": "error",
     "traceback": [
      "\u001b[1;31m---------------------------------------------------------------------------\u001b[0m",
      "\u001b[1;31mNameError\u001b[0m                                 Traceback (most recent call last)",
      "Input \u001b[1;32mIn [19]\u001b[0m, in \u001b[0;36m<cell line: 1>\u001b[1;34m()\u001b[0m\n\u001b[1;32m----> 1\u001b[0m \u001b[38;5;28mprint\u001b[39m(\u001b[43mt_out_new\u001b[49m)\n",
      "\u001b[1;31mNameError\u001b[0m: name 't_out_new' is not defined"
     ]
    }
   ],
   "source": [
    "print(t_out_new)"
   ]
  },
  {
   "cell_type": "code",
   "execution_count": 202,
   "id": "c7d163b3",
   "metadata": {},
   "outputs": [],
   "source": [
    "powers = [3,5,6.7,8,10,15,20,30,40,50,60,80,100,150,200,300]\n"
   ]
  },
  {
   "cell_type": "code",
   "execution_count": 21,
   "id": "c64c222a",
   "metadata": {},
   "outputs": [
    {
     "name": "stdout",
     "output_type": "stream",
     "text": [
      "[45.88537448368808, 64.12083110824875, 47.56712138289636, 57.4894590969436, 50.14662149592489, 44.259549442471005, 47.939319840610715, 45.699866088458634, 43.90719362276208, 40.16549359323521, 37.70881658868289, 40.61268110667926, 42.87741829604258, 45.442318883993615, 46.138326464654604, 44.110827473919976]\n",
      "[3, 5, 6.7, 8, 10, 15, 20, 30, 40, 50, 60, 80, 100, 150, 200, 300]\n",
      "[1522.7746795581636, 1718.5642932275862, 1555.9612602383022, 1633.6976763029272, 1547.7101353301541, 1561.0565827216838, 1596.743210362098, 1621.4475284219045, 1632.2002406741246, 1521.2657268721744, 1465.0097829523072, 1528.2281067139998, 1548.083535199804, 1571.801416287924, 1609.4594179310916, 1619.1658094343463]\n"
     ]
    }
   ],
   "source": [
    "print(t_uncs)\n",
    "print(powers)\n",
    "print(t_out)"
   ]
  },
  {
   "cell_type": "code",
   "execution_count": 22,
   "id": "95110460",
   "metadata": {},
   "outputs": [
    {
     "data": {
      "text/plain": [
       "Text(0, 0.5, 'lifetime(ps)')"
      ]
     },
     "execution_count": 22,
     "metadata": {},
     "output_type": "execute_result"
    },
    {
     "data": {
      "image/png": "[encoded data removed]",
      "text/plain": [
       "<Figure size 432x288 with 1 Axes>"
      ]
     },
     "metadata": {
      "needs_background": "light"
     },
     "output_type": "display_data"
    }
   ],
   "source": [
    "plt.errorbar(powers,t_out,yerr=t_uncs,fmt='o')\n",
    "plt.xlabel('Power(uW)')\n",
    "plt.ylabel('lifetime(ps)')\n"
   ]
  },
  {
   "cell_type": "code",
   "execution_count": 14,
   "id": "a7a2f78d",
   "metadata": {},
   "outputs": [],
   "source": [
    "def expo(x,a,T,c):\n",
    "    return a*np.exp(x*(-1/T))+c"
   ]
  },
  {
   "cell_type": "code",
   "execution_count": 15,
   "id": "466d0b5d",
   "metadata": {},
   "outputs": [],
   "source": [
    "def double_exp(t, a1, t1, a2, t2, c):\n",
    "    return a1*np.exp(-t/t1) + a2*np.exp(-t/t2) + c"
   ]
  },
  {
   "cell_type": "code",
   "execution_count": 16,
   "id": "1a91e7fa",
   "metadata": {},
   "outputs": [
    {
     "name": "stdout",
     "output_type": "stream",
     "text": [
      "[4.47054738e+08 1.34704328e+03 1.13099870e+01]\n",
      "[1.64701074e+08 3.36195194e+01 9.12838970e-01]\n"
     ]
    }
   ],
   "source": [
    "p0 = [1000, 1000,1]  # Initial guess for the parameters\n",
    "params, unc = curve_fit(expo, t, counts, p0=p0)\n",
    "uncs = np.sqrt(np.diag(unc))\n",
    "print(params)\n",
    "print(uncs)\n"
   ]
  },
  {
   "cell_type": "code",
   "execution_count": 200,
   "id": "56f1ab55",
   "metadata": {},
   "outputs": [],
   "source": [
    "i=0"
   ]
  },
  {
   "cell_type": "code",
   "execution_count": 214,
   "id": "c2ff5853",
   "metadata": {},
   "outputs": [
    {
     "name": "stderr",
     "output_type": "stream",
     "text": [
      "C:\\Users\\hamps\\anaconda3\\lib\\site-packages\\scipy\\optimize\\minpack.py:833: OptimizeWarning: Covariance of the parameters could not be estimated\n",
      "  warnings.warn('Covariance of the parameters could not be estimated',\n"
     ]
    },
    {
     "name": "stdout",
     "output_type": "stream",
     "text": [
      "300.0 1403.1312100953733\n"
     ]
    },
    {
     "data": {
      "image/png": "[encoded data removed]",
      "text/plain": [
       "<Figure size 432x288 with 1 Axes>"
      ]
     },
     "metadata": {
      "needs_background": "light"
     },
     "output_type": "display_data"
    }
   ],
   "source": [
    "file = os.listdir()[6]\n",
    "df = pd.read_csv(file, delim_whitespace=True)\n",
    "xmin = df.iloc[df.iloc[:,1].idxmax(),0]\n",
    "xmax =xmin+10000\n",
    "t = df.iloc[:,0]\n",
    "mask = (t<xmax)&(t>xmin)\n",
    "t=t[mask]\n",
    "counts = df.iloc[:,1][mask]\n",
    "plt.xlim(xmin,xmax)\n",
    "#plt.ylim(2,700)\n",
    "plt.semilogy(t,counts)\n",
    "p0 = [5000, 300,50,5000,2]  # Initial guess for the parameters\n",
    "params, unc = curve_fit(double_exp, t, counts,sigma=np.sqrt(counts), p0=p0)\n",
    "uncs = np.sqrt(np.diag(unc))\n",
    "print(params[1],params[3])\n",
    "plt.plot(t,counts)\n",
    "plt.plot(t,double_exp(t,params[0],params[1],params[2],params[3],params[4]))\n",
    "i+=1"
   ]
  },
  {
   "cell_type": "code",
   "execution_count": 73,
   "id": "edfbaba5",
   "metadata": {},
   "outputs": [
    {
     "data": {
      "text/plain": [
       "196"
      ]
     },
     "execution_count": 73,
     "metadata": {},
     "output_type": "execute_result"
    }
   ],
   "source": [
    "df.iloc[:,1].idxmax()"
   ]
  },
  {
   "cell_type": "code",
   "execution_count": 85,
   "id": "f4fd9b52",
   "metadata": {},
   "outputs": [],
   "source": [
    "a=df.iloc[df.iloc[:,1].idxmax(),0]"
   ]
  },
  {
   "cell_type": "code",
   "execution_count": 239,
   "id": "b2a327b1",
   "metadata": {},
   "outputs": [
    {
     "data": {
      "text/html": [
       "<div>\n",
       "<style scoped>\n",
       "    .dataframe tbody tr th:only-of-type {\n",
       "        vertical-align: middle;\n",
       "    }\n",
       "\n",
       "    .dataframe tbody tr th {\n",
       "        vertical-align: top;\n",
       "    }\n",
       "\n",
       "    .dataframe thead th {\n",
       "        text-align: right;\n",
       "    }\n",
       "</style>\n",
       "<table border=\"1\" class=\"dataframe\">\n",
       "  <thead>\n",
       "    <tr style=\"text-align: right;\">\n",
       "      <th></th>\n",
       "      <th>Time (ps)</th>\n",
       "      <th>Counts per bin</th>\n",
       "    </tr>\n",
       "  </thead>\n",
       "  <tbody>\n",
       "    <tr>\n",
       "      <th>0</th>\n",
       "      <td>0</td>\n",
       "      <td>6</td>\n",
       "    </tr>\n",
       "    <tr>\n",
       "      <th>1</th>\n",
       "      <td>100</td>\n",
       "      <td>2</td>\n",
       "    </tr>\n",
       "    <tr>\n",
       "      <th>2</th>\n",
       "      <td>200</td>\n",
       "      <td>2</td>\n",
       "    </tr>\n",
       "    <tr>\n",
       "      <th>3</th>\n",
       "      <td>300</td>\n",
       "      <td>6</td>\n",
       "    </tr>\n",
       "    <tr>\n",
       "      <th>4</th>\n",
       "      <td>400</td>\n",
       "      <td>6</td>\n",
       "    </tr>\n",
       "    <tr>\n",
       "      <th>...</th>\n",
       "      <td>...</td>\n",
       "      <td>...</td>\n",
       "    </tr>\n",
       "    <tr>\n",
       "      <th>995</th>\n",
       "      <td>99500</td>\n",
       "      <td>1</td>\n",
       "    </tr>\n",
       "    <tr>\n",
       "      <th>996</th>\n",
       "      <td>99600</td>\n",
       "      <td>3</td>\n",
       "    </tr>\n",
       "    <tr>\n",
       "      <th>997</th>\n",
       "      <td>99700</td>\n",
       "      <td>4</td>\n",
       "    </tr>\n",
       "    <tr>\n",
       "      <th>998</th>\n",
       "      <td>99800</td>\n",
       "      <td>3</td>\n",
       "    </tr>\n",
       "    <tr>\n",
       "      <th>999</th>\n",
       "      <td>99900</td>\n",
       "      <td>10</td>\n",
       "    </tr>\n",
       "  </tbody>\n",
       "</table>\n",
       "<p>1000 rows × 2 columns</p>\n",
       "</div>"
      ],
      "text/plain": [
       "     Time (ps)  Counts per bin\n",
       "0            0               6\n",
       "1          100               2\n",
       "2          200               2\n",
       "3          300               6\n",
       "4          400               6\n",
       "..         ...             ...\n",
       "995      99500               1\n",
       "996      99600               3\n",
       "997      99700               4\n",
       "998      99800               3\n",
       "999      99900              10\n",
       "\n",
       "[1000 rows x 2 columns]"
      ]
     },
     "execution_count": 239,
     "metadata": {},
     "output_type": "execute_result"
    }
   ],
   "source": [
    "df"
   ]
  },
  {
   "cell_type": "code",
   "execution_count": 85,
   "id": "1a1c5878",
   "metadata": {},
   "outputs": [
    {
     "data": {
      "text/plain": [
       "['BG_529nm_60s.dat',\n",
       " 'BG_529nm_60s.phu',\n",
       " 'IRF_450nm_60s.dat',\n",
       " 'IRF_450nm_60s.phu',\n",
       " 'PL_527nm_100uW_60s.dat',\n",
       " 'PL_527nm_100uW_60s.phu',\n",
       " 'PL_529nm_100uW_60s.dat',\n",
       " 'PL_529nm_100uW_60s.phu',\n",
       " 'PL_529nm_60s_with laser.dat',\n",
       " 'PL_529nm_60s_with laser.phu',\n",
       " 'PL_531nm_100uW_60s.dat',\n",
       " 'PL_531nm_100uW_60s.phu',\n",
       " 'PL_532nm_100uW_60s.dat',\n",
       " 'PL_532nm_100uW_60s.phu']"
      ]
     },
     "execution_count": 85,
     "metadata": {},
     "output_type": "execute_result"
    }
   ],
   "source": [
    "os.listdir()"
   ]
  },
  {
   "cell_type": "code",
   "execution_count": 92,
   "id": "34a6a353",
   "metadata": {
    "scrolled": true
   },
   "outputs": [
    {
     "ename": "IndexError",
     "evalue": "single positional indexer is out-of-bounds",
     "output_type": "error",
     "traceback": [
      "\u001b[1;31m---------------------------------------------------------------------------\u001b[0m",
      "\u001b[1;31mIndexError\u001b[0m                                Traceback (most recent call last)",
      "Input \u001b[1;32mIn [92]\u001b[0m, in \u001b[0;36m<cell line: 7>\u001b[1;34m()\u001b[0m\n\u001b[0;32m      5\u001b[0m offset \u001b[38;5;241m=\u001b[39m \u001b[38;5;241m0\u001b[39m\n\u001b[0;32m      6\u001b[0m t \u001b[38;5;241m=\u001b[39m df\u001b[38;5;241m.\u001b[39miloc[:,\u001b[38;5;241m0\u001b[39m]\n\u001b[1;32m----> 7\u001b[0m xmin \u001b[38;5;241m=\u001b[39m df\u001b[38;5;241m.\u001b[39miloc[\u001b[43mdf\u001b[49m\u001b[38;5;241;43m.\u001b[39;49m\u001b[43miloc\u001b[49m\u001b[43m[\u001b[49m\u001b[43m:\u001b[49m\u001b[43m,\u001b[49m\u001b[38;5;241;43m1\u001b[39;49m\u001b[43m]\u001b[49m\u001b[38;5;241m.\u001b[39midxmax(),\u001b[38;5;241m0\u001b[39m]\u001b[38;5;241m+\u001b[39m\u001b[38;5;241m300\u001b[39m\n\u001b[0;32m      8\u001b[0m xmax \u001b[38;5;241m=\u001b[39mxmin\u001b[38;5;241m+\u001b[39m\u001b[38;5;241m15000\u001b[39m\n\u001b[0;32m      9\u001b[0m mask \u001b[38;5;241m=\u001b[39m (t\u001b[38;5;241m<\u001b[39mxmax)\u001b[38;5;241m&\u001b[39m(t\u001b[38;5;241m>\u001b[39mxmin)\n",
      "File \u001b[1;32m~\\anaconda3\\lib\\site-packages\\pandas\\core\\indexing.py:961\u001b[0m, in \u001b[0;36m_LocationIndexer.__getitem__\u001b[1;34m(self, key)\u001b[0m\n\u001b[0;32m    959\u001b[0m     \u001b[38;5;28;01mif\u001b[39;00m \u001b[38;5;28mself\u001b[39m\u001b[38;5;241m.\u001b[39m_is_scalar_access(key):\n\u001b[0;32m    960\u001b[0m         \u001b[38;5;28;01mreturn\u001b[39;00m \u001b[38;5;28mself\u001b[39m\u001b[38;5;241m.\u001b[39mobj\u001b[38;5;241m.\u001b[39m_get_value(\u001b[38;5;241m*\u001b[39mkey, takeable\u001b[38;5;241m=\u001b[39m\u001b[38;5;28mself\u001b[39m\u001b[38;5;241m.\u001b[39m_takeable)\n\u001b[1;32m--> 961\u001b[0m     \u001b[38;5;28;01mreturn\u001b[39;00m \u001b[38;5;28;43mself\u001b[39;49m\u001b[38;5;241;43m.\u001b[39;49m\u001b[43m_getitem_tuple\u001b[49m\u001b[43m(\u001b[49m\u001b[43mkey\u001b[49m\u001b[43m)\u001b[49m\n\u001b[0;32m    962\u001b[0m \u001b[38;5;28;01melse\u001b[39;00m:\n\u001b[0;32m    963\u001b[0m     \u001b[38;5;66;03m# we by definition only have the 0th axis\u001b[39;00m\n\u001b[0;32m    964\u001b[0m     axis \u001b[38;5;241m=\u001b[39m \u001b[38;5;28mself\u001b[39m\u001b[38;5;241m.\u001b[39maxis \u001b[38;5;129;01mor\u001b[39;00m \u001b[38;5;241m0\u001b[39m\n",
      "File \u001b[1;32m~\\anaconda3\\lib\\site-packages\\pandas\\core\\indexing.py:1458\u001b[0m, in \u001b[0;36m_iLocIndexer._getitem_tuple\u001b[1;34m(self, tup)\u001b[0m\n\u001b[0;32m   1456\u001b[0m \u001b[38;5;28;01mdef\u001b[39;00m \u001b[38;5;21m_getitem_tuple\u001b[39m(\u001b[38;5;28mself\u001b[39m, tup: \u001b[38;5;28mtuple\u001b[39m):\n\u001b[1;32m-> 1458\u001b[0m     tup \u001b[38;5;241m=\u001b[39m \u001b[38;5;28;43mself\u001b[39;49m\u001b[38;5;241;43m.\u001b[39;49m\u001b[43m_validate_tuple_indexer\u001b[49m\u001b[43m(\u001b[49m\u001b[43mtup\u001b[49m\u001b[43m)\u001b[49m\n\u001b[0;32m   1459\u001b[0m     \u001b[38;5;28;01mwith\u001b[39;00m suppress(IndexingError):\n\u001b[0;32m   1460\u001b[0m         \u001b[38;5;28;01mreturn\u001b[39;00m \u001b[38;5;28mself\u001b[39m\u001b[38;5;241m.\u001b[39m_getitem_lowerdim(tup)\n",
      "File \u001b[1;32m~\\anaconda3\\lib\\site-packages\\pandas\\core\\indexing.py:769\u001b[0m, in \u001b[0;36m_LocationIndexer._validate_tuple_indexer\u001b[1;34m(self, key)\u001b[0m\n\u001b[0;32m    767\u001b[0m \u001b[38;5;28;01mfor\u001b[39;00m i, k \u001b[38;5;129;01min\u001b[39;00m \u001b[38;5;28menumerate\u001b[39m(key):\n\u001b[0;32m    768\u001b[0m     \u001b[38;5;28;01mtry\u001b[39;00m:\n\u001b[1;32m--> 769\u001b[0m         \u001b[38;5;28;43mself\u001b[39;49m\u001b[38;5;241;43m.\u001b[39;49m\u001b[43m_validate_key\u001b[49m\u001b[43m(\u001b[49m\u001b[43mk\u001b[49m\u001b[43m,\u001b[49m\u001b[43m \u001b[49m\u001b[43mi\u001b[49m\u001b[43m)\u001b[49m\n\u001b[0;32m    770\u001b[0m     \u001b[38;5;28;01mexcept\u001b[39;00m \u001b[38;5;167;01mValueError\u001b[39;00m \u001b[38;5;28;01mas\u001b[39;00m err:\n\u001b[0;32m    771\u001b[0m         \u001b[38;5;28;01mraise\u001b[39;00m \u001b[38;5;167;01mValueError\u001b[39;00m(\n\u001b[0;32m    772\u001b[0m             \u001b[38;5;124m\"\u001b[39m\u001b[38;5;124mLocation based indexing can only have \u001b[39m\u001b[38;5;124m\"\u001b[39m\n\u001b[0;32m    773\u001b[0m             \u001b[38;5;124mf\u001b[39m\u001b[38;5;124m\"\u001b[39m\u001b[38;5;124m[\u001b[39m\u001b[38;5;132;01m{\u001b[39;00m\u001b[38;5;28mself\u001b[39m\u001b[38;5;241m.\u001b[39m_valid_types\u001b[38;5;132;01m}\u001b[39;00m\u001b[38;5;124m] types\u001b[39m\u001b[38;5;124m\"\u001b[39m\n\u001b[0;32m    774\u001b[0m         ) \u001b[38;5;28;01mfrom\u001b[39;00m \u001b[38;5;21;01merr\u001b[39;00m\n",
      "File \u001b[1;32m~\\anaconda3\\lib\\site-packages\\pandas\\core\\indexing.py:1361\u001b[0m, in \u001b[0;36m_iLocIndexer._validate_key\u001b[1;34m(self, key, axis)\u001b[0m\n\u001b[0;32m   1359\u001b[0m     \u001b[38;5;28;01mreturn\u001b[39;00m\n\u001b[0;32m   1360\u001b[0m \u001b[38;5;28;01melif\u001b[39;00m is_integer(key):\n\u001b[1;32m-> 1361\u001b[0m     \u001b[38;5;28;43mself\u001b[39;49m\u001b[38;5;241;43m.\u001b[39;49m\u001b[43m_validate_integer\u001b[49m\u001b[43m(\u001b[49m\u001b[43mkey\u001b[49m\u001b[43m,\u001b[49m\u001b[43m \u001b[49m\u001b[43maxis\u001b[49m\u001b[43m)\u001b[49m\n\u001b[0;32m   1362\u001b[0m \u001b[38;5;28;01melif\u001b[39;00m \u001b[38;5;28misinstance\u001b[39m(key, \u001b[38;5;28mtuple\u001b[39m):\n\u001b[0;32m   1363\u001b[0m     \u001b[38;5;66;03m# a tuple should already have been caught by this point\u001b[39;00m\n\u001b[0;32m   1364\u001b[0m     \u001b[38;5;66;03m# so don't treat a tuple as a valid indexer\u001b[39;00m\n\u001b[0;32m   1365\u001b[0m     \u001b[38;5;28;01mraise\u001b[39;00m IndexingError(\u001b[38;5;124m\"\u001b[39m\u001b[38;5;124mToo many indexers\u001b[39m\u001b[38;5;124m\"\u001b[39m)\n",
      "File \u001b[1;32m~\\anaconda3\\lib\\site-packages\\pandas\\core\\indexing.py:1452\u001b[0m, in \u001b[0;36m_iLocIndexer._validate_integer\u001b[1;34m(self, key, axis)\u001b[0m\n\u001b[0;32m   1450\u001b[0m len_axis \u001b[38;5;241m=\u001b[39m \u001b[38;5;28mlen\u001b[39m(\u001b[38;5;28mself\u001b[39m\u001b[38;5;241m.\u001b[39mobj\u001b[38;5;241m.\u001b[39m_get_axis(axis))\n\u001b[0;32m   1451\u001b[0m \u001b[38;5;28;01mif\u001b[39;00m key \u001b[38;5;241m>\u001b[39m\u001b[38;5;241m=\u001b[39m len_axis \u001b[38;5;129;01mor\u001b[39;00m key \u001b[38;5;241m<\u001b[39m \u001b[38;5;241m-\u001b[39mlen_axis:\n\u001b[1;32m-> 1452\u001b[0m     \u001b[38;5;28;01mraise\u001b[39;00m \u001b[38;5;167;01mIndexError\u001b[39;00m(\u001b[38;5;124m\"\u001b[39m\u001b[38;5;124msingle positional indexer is out-of-bounds\u001b[39m\u001b[38;5;124m\"\u001b[39m)\n",
      "\u001b[1;31mIndexError\u001b[0m: single positional indexer is out-of-bounds"
     ]
    },
    {
     "data": {
      "image/png": "[encoded data removed]",
      "text/plain": [
       "<Figure size 504x360 with 1 Axes>"
      ]
     },
     "metadata": {
      "needs_background": "light"
     },
     "output_type": "display_data"
    }
   ],
   "source": [
    "fig, axs = plt.subplots(1, 1, figsize=(7,5))\n",
    "file = os.listdir()[6]\n",
    "df = pd.read_csv(file, delim_whitespace=True, comment='#')\n",
    "#offset = df.iloc[df.iloc[:,1].idxmax(),0]\n",
    "offset = 0\n",
    "t = df.iloc[:,0]\n",
    "xmin = df.iloc[df.iloc[:,1].idxmax(),0]+300\n",
    "xmax =xmin+15000\n",
    "mask = (t<xmax)&(t>xmin)\n",
    "t_off = t - offset\n",
    "t_u=t[mask]-offset\n",
    "counts = df.iloc[:,1][mask]\n",
    "p0 = [1000, 1000,3]\n",
    "params, unc = curve_fit(expo, t_u, counts, p0=p0,sigma=np.sqrt(counts))\n",
    "uncs = np.sqrt(np.diag(unc))\n",
    "axs.semilogy(t_off, df.iloc[:,1], label='signal')\n",
    "axs.semilogy(t_u,expo(t_u,*params), label = 'decay fit')\n",
    "axs.set_xlim(-2500, 13000)\n",
    "axs.set_ylim(0.5, 3000)\n",
    "props = dict(boxstyle='round', facecolor='wheat', alpha=0.5)\n",
    "textstr1 = '\\n'.join((\n",
    "    r'FitParams:',\n",
    "    r'$A=%.2f$' % (params[0],),\n",
    "    r'$T=%.2f ps$' % (params[1],),\n",
    "    r'$C=%.2f$' % (params[2],)))\n",
    "axs.text(0.7, 0.95, textstr1, transform=axs.transAxes, fontsize=20, verticalalignment='top', bbox=props)\n",
    "axs.set_xlabel('Time (ps)')\n",
    "axs.set_ylabel('Time resolved PL intensity (AU)')\n",
    "axs.legend(loc = 'upper left')\n"
   ]
  },
  {
   "cell_type": "code",
   "execution_count": 205,
   "id": "a028abc7",
   "metadata": {
    "scrolled": true
   },
   "outputs": [],
   "source": [
    "powers = [3,5,6.7,8,10,15,20,30,40,50,60,80,100,150,200,300]"
   ]
  },
  {
   "cell_type": "code",
   "execution_count": 225,
   "id": "e7609cda",
   "metadata": {},
   "outputs": [
    {
     "name": "stdout",
     "output_type": "stream",
     "text": [
      "Histogram_2023-03-24_184502.txt\n"
     ]
    }
   ],
   "source": [
    "file  = os.listdir()[0]\n",
    "print(file)\n",
    "files = [os.listdir()[0], os.listdir()[-4]]\n",
    "p = [3,100]"
   ]
  },
  {
   "cell_type": "code",
   "execution_count": 227,
   "id": "268ecc95",
   "metadata": {},
   "outputs": [
    {
     "data": {
      "image/png": "[encoded data removed]",
      "text/plain": [
       "<Figure size 432x288 with 1 Axes>"
      ]
     },
     "metadata": {
      "needs_background": "light"
     },
     "output_type": "display_data"
    }
   ],
   "source": [
    "for i, file in enumerate(files):\n",
    "    df = pd.read_csv(file, delim_whitespace=True, comment='#')\n",
    "    t = df.iloc[:,0]\n",
    "    c = df.iloc[:,1]\n",
    "    off = t.iloc[min(c[c>20].index)]\n",
    "    t=t-off\n",
    "    xmin = 0-500\n",
    "    xmax = 4000\n",
    "    plt.xlim(xmin,xmax)\n",
    "    plt.semilogy(t,c, alpha=0.5, label = p[i])\n",
    "plt.legend(loc='upper center', bbox_to_anchor=(0.5, -0.2))\n",
    "plt.show()"
   ]
  },
  {
   "cell_type": "code",
   "execution_count": 215,
   "id": "104a6b22",
   "metadata": {},
   "outputs": [
    {
     "data": {
      "text/plain": [
       "189"
      ]
     },
     "execution_count": 215,
     "metadata": {},
     "output_type": "execute_result"
    }
   ],
   "source": [
    "t.imin(c[c>10].index)"
   ]
  },
  {
   "cell_type": "code",
   "execution_count": 185,
   "id": "5f990c51",
   "metadata": {},
   "outputs": [
    {
     "ename": "ValueError",
     "evalue": "Length mismatch: Expected axis has 2 elements, new values have 1 elements",
     "output_type": "error",
     "traceback": [
      "\u001b[1;31m---------------------------------------------------------------------------\u001b[0m",
      "\u001b[1;31mValueError\u001b[0m                                Traceback (most recent call last)",
      "Input \u001b[1;32mIn [185]\u001b[0m, in \u001b[0;36m<cell line: 3>\u001b[1;34m()\u001b[0m\n\u001b[0;32m      1\u001b[0m df \u001b[38;5;241m=\u001b[39m pd\u001b[38;5;241m.\u001b[39mread_csv(file, delim_whitespace\u001b[38;5;241m=\u001b[39m\u001b[38;5;28;01mTrue\u001b[39;00m, comment\u001b[38;5;241m=\u001b[39m\u001b[38;5;124m'\u001b[39m\u001b[38;5;124m#\u001b[39m\u001b[38;5;124m'\u001b[39m)\n\u001b[0;32m      2\u001b[0m df \u001b[38;5;241m=\u001b[39m df[\u001b[38;5;241m3\u001b[39m:]\n\u001b[1;32m----> 3\u001b[0m df\u001b[38;5;241m.\u001b[39mcolumns \u001b[38;5;241m=\u001b[39m [\u001b[38;5;124m'\u001b[39m\u001b[38;5;124mcounts\u001b[39m\u001b[38;5;124m'\u001b[39m]\n\u001b[0;32m      4\u001b[0m df[\u001b[38;5;124m'\u001b[39m\u001b[38;5;124mtimes (ns)\u001b[39m\u001b[38;5;124m'\u001b[39m] \u001b[38;5;241m=\u001b[39m df\u001b[38;5;241m.\u001b[39mindex\u001b[38;5;241m*\u001b[39m\u001b[38;5;241m0.025\u001b[39m\n\u001b[0;32m      5\u001b[0m t \u001b[38;5;241m=\u001b[39m df\u001b[38;5;241m.\u001b[39miloc[:,\u001b[38;5;241m1\u001b[39m]\n",
      "File \u001b[1;32m~\\anaconda3\\lib\\site-packages\\pandas\\core\\generic.py:5588\u001b[0m, in \u001b[0;36mNDFrame.__setattr__\u001b[1;34m(self, name, value)\u001b[0m\n\u001b[0;32m   5586\u001b[0m \u001b[38;5;28;01mtry\u001b[39;00m:\n\u001b[0;32m   5587\u001b[0m     \u001b[38;5;28mobject\u001b[39m\u001b[38;5;241m.\u001b[39m\u001b[38;5;21m__getattribute__\u001b[39m(\u001b[38;5;28mself\u001b[39m, name)\n\u001b[1;32m-> 5588\u001b[0m     \u001b[38;5;28;01mreturn\u001b[39;00m \u001b[38;5;28;43mobject\u001b[39;49m\u001b[38;5;241;43m.\u001b[39;49m\u001b[38;5;21;43m__setattr__\u001b[39;49m\u001b[43m(\u001b[49m\u001b[38;5;28;43mself\u001b[39;49m\u001b[43m,\u001b[49m\u001b[43m \u001b[49m\u001b[43mname\u001b[49m\u001b[43m,\u001b[49m\u001b[43m \u001b[49m\u001b[43mvalue\u001b[49m\u001b[43m)\u001b[49m\n\u001b[0;32m   5589\u001b[0m \u001b[38;5;28;01mexcept\u001b[39;00m \u001b[38;5;167;01mAttributeError\u001b[39;00m:\n\u001b[0;32m   5590\u001b[0m     \u001b[38;5;28;01mpass\u001b[39;00m\n",
      "File \u001b[1;32m~\\anaconda3\\lib\\site-packages\\pandas\\_libs\\properties.pyx:70\u001b[0m, in \u001b[0;36mpandas._libs.properties.AxisProperty.__set__\u001b[1;34m()\u001b[0m\n",
      "File \u001b[1;32m~\\anaconda3\\lib\\site-packages\\pandas\\core\\generic.py:769\u001b[0m, in \u001b[0;36mNDFrame._set_axis\u001b[1;34m(self, axis, labels)\u001b[0m\n\u001b[0;32m    767\u001b[0m \u001b[38;5;28;01mdef\u001b[39;00m \u001b[38;5;21m_set_axis\u001b[39m(\u001b[38;5;28mself\u001b[39m, axis: \u001b[38;5;28mint\u001b[39m, labels: Index) \u001b[38;5;241m-\u001b[39m\u001b[38;5;241m>\u001b[39m \u001b[38;5;28;01mNone\u001b[39;00m:\n\u001b[0;32m    768\u001b[0m     labels \u001b[38;5;241m=\u001b[39m ensure_index(labels)\n\u001b[1;32m--> 769\u001b[0m     \u001b[38;5;28;43mself\u001b[39;49m\u001b[38;5;241;43m.\u001b[39;49m\u001b[43m_mgr\u001b[49m\u001b[38;5;241;43m.\u001b[39;49m\u001b[43mset_axis\u001b[49m\u001b[43m(\u001b[49m\u001b[43maxis\u001b[49m\u001b[43m,\u001b[49m\u001b[43m \u001b[49m\u001b[43mlabels\u001b[49m\u001b[43m)\u001b[49m\n\u001b[0;32m    770\u001b[0m     \u001b[38;5;28mself\u001b[39m\u001b[38;5;241m.\u001b[39m_clear_item_cache()\n",
      "File \u001b[1;32m~\\anaconda3\\lib\\site-packages\\pandas\\core\\internals\\managers.py:214\u001b[0m, in \u001b[0;36mBaseBlockManager.set_axis\u001b[1;34m(self, axis, new_labels)\u001b[0m\n\u001b[0;32m    212\u001b[0m \u001b[38;5;28;01mdef\u001b[39;00m \u001b[38;5;21mset_axis\u001b[39m(\u001b[38;5;28mself\u001b[39m, axis: \u001b[38;5;28mint\u001b[39m, new_labels: Index) \u001b[38;5;241m-\u001b[39m\u001b[38;5;241m>\u001b[39m \u001b[38;5;28;01mNone\u001b[39;00m:\n\u001b[0;32m    213\u001b[0m     \u001b[38;5;66;03m# Caller is responsible for ensuring we have an Index object.\u001b[39;00m\n\u001b[1;32m--> 214\u001b[0m     \u001b[38;5;28;43mself\u001b[39;49m\u001b[38;5;241;43m.\u001b[39;49m\u001b[43m_validate_set_axis\u001b[49m\u001b[43m(\u001b[49m\u001b[43maxis\u001b[49m\u001b[43m,\u001b[49m\u001b[43m \u001b[49m\u001b[43mnew_labels\u001b[49m\u001b[43m)\u001b[49m\n\u001b[0;32m    215\u001b[0m     \u001b[38;5;28mself\u001b[39m\u001b[38;5;241m.\u001b[39maxes[axis] \u001b[38;5;241m=\u001b[39m new_labels\n",
      "File \u001b[1;32m~\\anaconda3\\lib\\site-packages\\pandas\\core\\internals\\base.py:69\u001b[0m, in \u001b[0;36mDataManager._validate_set_axis\u001b[1;34m(self, axis, new_labels)\u001b[0m\n\u001b[0;32m     66\u001b[0m     \u001b[38;5;28;01mpass\u001b[39;00m\n\u001b[0;32m     68\u001b[0m \u001b[38;5;28;01melif\u001b[39;00m new_len \u001b[38;5;241m!=\u001b[39m old_len:\n\u001b[1;32m---> 69\u001b[0m     \u001b[38;5;28;01mraise\u001b[39;00m \u001b[38;5;167;01mValueError\u001b[39;00m(\n\u001b[0;32m     70\u001b[0m         \u001b[38;5;124mf\u001b[39m\u001b[38;5;124m\"\u001b[39m\u001b[38;5;124mLength mismatch: Expected axis has \u001b[39m\u001b[38;5;132;01m{\u001b[39;00mold_len\u001b[38;5;132;01m}\u001b[39;00m\u001b[38;5;124m elements, new \u001b[39m\u001b[38;5;124m\"\u001b[39m\n\u001b[0;32m     71\u001b[0m         \u001b[38;5;124mf\u001b[39m\u001b[38;5;124m\"\u001b[39m\u001b[38;5;124mvalues have \u001b[39m\u001b[38;5;132;01m{\u001b[39;00mnew_len\u001b[38;5;132;01m}\u001b[39;00m\u001b[38;5;124m elements\u001b[39m\u001b[38;5;124m\"\u001b[39m\n\u001b[0;32m     72\u001b[0m     )\n",
      "\u001b[1;31mValueError\u001b[0m: Length mismatch: Expected axis has 2 elements, new values have 1 elements"
     ]
    }
   ],
   "source": [
    "\n",
    "df = pd.read_csv(file, delim_whitespace=True, comment='#')\n",
    "df = df[3:]\n",
    "df.columns = ['counts']\n",
    "df['times (ns)'] = df.index*0.025\n",
    "t = df.iloc[:,1]\n",
    "c = df.iloc[:,0]\n",
    "off = t.iloc[c.idxmax()]\n",
    "t = t - off\n",
    "xmin = 0+0.08\n",
    "xmax = 2.1\n",
    "mask = (t<xmax)&(t>xmin)\n",
    "p0 = [10000, 1,0]\n",
    "params, unc = curve_fit(expo, t[mask], c[mask], p0=p0,sigma=np.sqrt(c[mask]))\n",
    "plt.plot(t[mask],expo(t[mask],*params), label = 'decay fit', linewidth = 2.5)\n",
    "plt.scatter(t, c, label='data', alpha=0.3, s=20, color='red')\n",
    "plt.xlim(-1,4)\n",
    "plt.xlabel('Time (ns)')\n",
    "plt.ylabel('Time-resolved PL intensity (a.u)')\n",
    "uncs = np.sqrt(np.diag(unc))\n",
    "textstr1 = '\\n'.join((\n",
    "    r'Fit:',\n",
    "    r'$\\tau=%.2f ns$' % (params[1]),\n",
    "    r'$\\pm %.3f ns$' % (uncs[1])))\n",
    "plt.text(0.5, 0.5, textstr1, transform=axs.transAxes, fontsize=15, verticalalignment='top', bbox=props)\n",
    "plt.legend()\n",
    "\n",
    "#plt.title(file)"
   ]
  },
  {
   "cell_type": "code",
   "execution_count": 157,
   "id": "ac8a1921",
   "metadata": {},
   "outputs": [
    {
     "data": {
      "text/plain": [
       "array([2.46677592e+02, 3.77905421e-03, 6.86126727e+00])"
      ]
     },
     "execution_count": 157,
     "metadata": {},
     "output_type": "execute_result"
    }
   ],
   "source": [
    "uncs\n"
   ]
  },
  {
   "cell_type": "code",
   "execution_count": 121,
   "id": "4b2f19c4",
   "metadata": {},
   "outputs": [
    {
     "data": {
      "text/html": [
       "<div>\n",
       "<style scoped>\n",
       "    .dataframe tbody tr th:only-of-type {\n",
       "        vertical-align: middle;\n",
       "    }\n",
       "\n",
       "    .dataframe tbody tr th {\n",
       "        vertical-align: top;\n",
       "    }\n",
       "\n",
       "    .dataframe thead th {\n",
       "        text-align: right;\n",
       "    }\n",
       "</style>\n",
       "<table border=\"1\" class=\"dataframe\">\n",
       "  <thead>\n",
       "    <tr style=\"text-align: right;\">\n",
       "      <th></th>\n",
       "      <th>counts</th>\n",
       "      <th>times (ns)</th>\n",
       "    </tr>\n",
       "  </thead>\n",
       "  <tbody>\n",
       "    <tr>\n",
       "      <th>3</th>\n",
       "      <td>11.0</td>\n",
       "      <td>0.075</td>\n",
       "    </tr>\n",
       "    <tr>\n",
       "      <th>4</th>\n",
       "      <td>12.0</td>\n",
       "      <td>0.100</td>\n",
       "    </tr>\n",
       "    <tr>\n",
       "      <th>5</th>\n",
       "      <td>9.0</td>\n",
       "      <td>0.125</td>\n",
       "    </tr>\n",
       "    <tr>\n",
       "      <th>6</th>\n",
       "      <td>10.0</td>\n",
       "      <td>0.150</td>\n",
       "    </tr>\n",
       "    <tr>\n",
       "      <th>7</th>\n",
       "      <td>13.0</td>\n",
       "      <td>0.175</td>\n",
       "    </tr>\n",
       "    <tr>\n",
       "      <th>...</th>\n",
       "      <td>...</td>\n",
       "      <td>...</td>\n",
       "    </tr>\n",
       "    <tr>\n",
       "      <th>32766</th>\n",
       "      <td>0.0</td>\n",
       "      <td>819.150</td>\n",
       "    </tr>\n",
       "    <tr>\n",
       "      <th>32767</th>\n",
       "      <td>0.0</td>\n",
       "      <td>819.175</td>\n",
       "    </tr>\n",
       "    <tr>\n",
       "      <th>32768</th>\n",
       "      <td>0.0</td>\n",
       "      <td>819.200</td>\n",
       "    </tr>\n",
       "    <tr>\n",
       "      <th>32769</th>\n",
       "      <td>0.0</td>\n",
       "      <td>819.225</td>\n",
       "    </tr>\n",
       "    <tr>\n",
       "      <th>32770</th>\n",
       "      <td>0.0</td>\n",
       "      <td>819.250</td>\n",
       "    </tr>\n",
       "  </tbody>\n",
       "</table>\n",
       "<p>32768 rows × 2 columns</p>\n",
       "</div>"
      ],
      "text/plain": [
       "       counts  times (ns)\n",
       "3        11.0       0.075\n",
       "4        12.0       0.100\n",
       "5         9.0       0.125\n",
       "6        10.0       0.150\n",
       "7        13.0       0.175\n",
       "...       ...         ...\n",
       "32766     0.0     819.150\n",
       "32767     0.0     819.175\n",
       "32768     0.0     819.200\n",
       "32769     0.0     819.225\n",
       "32770     0.0     819.250\n",
       "\n",
       "[32768 rows x 2 columns]"
      ]
     },
     "execution_count": 121,
     "metadata": {},
     "output_type": "execute_result"
    }
   ],
   "source": []
  }
 ],
 "metadata": {
  "kernelspec": {
   "display_name": "Python 3 (ipykernel)",
   "language": "python",
   "name": "python3"
  },
  "language_info": {
   "codemirror_mode": {
    "name": "ipython",
    "version": 3
   },
   "file_extension": ".py",
   "mimetype": "text/x-python",
   "name": "python",
   "nbconvert_exporter": "python",
   "pygments_lexer": "ipython3",
   "version": "3.9.12"
  }
 },
 "nbformat": 4,
 "nbformat_minor": 5
}
