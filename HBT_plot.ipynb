{
 "cells": [
  {
   "cell_type": "code",
   "execution_count": 2,
   "id": "3c37bc42",
   "metadata": {},
   "outputs": [],
   "source": [
    "import pandas as pd\n",
    "import numpy as np\n",
    "import matplotlib.pyplot as plt\n",
    "import os"
   ]
  },
  {
   "cell_type": "code",
   "execution_count": 15,
   "id": "5886e5ef",
   "metadata": {},
   "outputs": [
    {
     "data": {
      "text/plain": [
       "['Bidirectional_histogram_2023-03-13_163157.txt',\n",
       " 'Bidirectional_histogram_2023-03-13_174003.txt',\n",
       " 'Bidirectional_histogram_2023-03-23_180444.txt',\n",
       " 'Counter_time_trace_2023-03-10_135437.txt',\n",
       " 'Counter_time_trace_2023-03-10_140621.txt',\n",
       " 'Counter_time_trace_2023-03-10_150112.txt',\n",
       " 'Counter_time_trace_2023-03-13_173114.txt',\n",
       " 'Counter_time_trace_2023-03-21_174202.txt',\n",
       " 'Counter_time_trace_2023-03-24_185549.txt']"
      ]
     },
     "execution_count": 15,
     "metadata": {},
     "output_type": "execute_result"
    }
   ],
   "source": [
    "os.listdir()\n",
    "\n"
   ]
  },
  {
   "cell_type": "code",
   "execution_count": 14,
   "id": "5c87a7a1",
   "metadata": {},
   "outputs": [],
   "source": [
    "os.chdir('apd_data')"
   ]
  },
  {
   "cell_type": "code",
   "execution_count": null,
   "id": "662080e4",
   "metadata": {},
   "outputs": [],
   "source": [
    "os.chdir(os.listdir()[-2])"
   ]
  },
  {
   "cell_type": "code",
   "execution_count": 16,
   "id": "2f5eb27b",
   "metadata": {},
   "outputs": [],
   "source": [
    "start = 'Bid'\n",
    "c_files = []\n",
    "for f in os.listdir():\n",
    "    if f.startswith(start):\n",
    "        c_files.append(f)"
   ]
  },
  {
   "cell_type": "code",
   "execution_count": 23,
   "id": "61c208ca",
   "metadata": {},
   "outputs": [],
   "source": [
    "i = 2"
   ]
  },
  {
   "cell_type": "code",
   "execution_count": 54,
   "id": "1e592db2",
   "metadata": {},
   "outputs": [
    {
     "data": {
      "text/plain": [
       "(-250000.0, 250000.0)"
      ]
     },
     "execution_count": 54,
     "metadata": {},
     "output_type": "execute_result"
    },
    {
     "data": {
      "image/png": "[encoded data removed]",
      "text/plain": [
       "<Figure size 288x216 with 1 Axes>"
      ]
     },
     "metadata": {
      "needs_background": "light"
     },
     "output_type": "display_data"
    }
   ],
   "source": [
    "file = os.listdir()[i]\n",
    "data = pd.read_table(file, delim_whitespace = True)\n",
    "x1 = data.columns[0]\n",
    "y1 = data.columns[1]\n",
    "r = data.loc[(data[x1]>-100000) & (data[x1]<100000)]\n",
    "ofset = r[x1][r[y1].idxmax()]\n",
    "tdat = data[x1]-ofset\n",
    "plt.figure(figsize=(4,3))\n",
    "plt.plot(tdat,data[y1])\n",
    "plt.xlabel('Delay (ps)')\n",
    "plt.ylabel('Photon coincidence')\n",
    "plt.xlim(-250000,250000)\n",
    "\n",
    "\n"
   ]
  },
  {
   "cell_type": "code",
   "execution_count": 34,
   "id": "2cf79be5",
   "metadata": {},
   "outputs": [
    {
     "data": {
      "text/html": [
       "<div>\n",
       "<style scoped>\n",
       "    .dataframe tbody tr th:only-of-type {\n",
       "        vertical-align: middle;\n",
       "    }\n",
       "\n",
       "    .dataframe tbody tr th {\n",
       "        vertical-align: top;\n",
       "    }\n",
       "\n",
       "    .dataframe thead th {\n",
       "        text-align: right;\n",
       "    }\n",
       "</style>\n",
       "<table border=\"1\" class=\"dataframe\">\n",
       "  <thead>\n",
       "    <tr style=\"text-align: right;\">\n",
       "      <th></th>\n",
       "      <th>Time differences (ps)</th>\n",
       "      <th>Counts per bin</th>\n",
       "    </tr>\n",
       "  </thead>\n",
       "  <tbody>\n",
       "    <tr>\n",
       "      <th>599</th>\n",
       "      <td>99000</td>\n",
       "      <td>65</td>\n",
       "    </tr>\n",
       "    <tr>\n",
       "      <th>483</th>\n",
       "      <td>-17000</td>\n",
       "      <td>268</td>\n",
       "    </tr>\n",
       "  </tbody>\n",
       "</table>\n",
       "</div>"
      ],
      "text/plain": [
       "     Time differences (ps)  Counts per bin\n",
       "599                  99000              65\n",
       "483                 -17000             268"
      ]
     },
     "execution_count": 34,
     "metadata": {},
     "output_type": "execute_result"
    }
   ],
   "source": [
    "r.loc[r.idxmax()]"
   ]
  },
  {
   "cell_type": "code",
   "execution_count": 43,
   "id": "056c101c",
   "metadata": {},
   "outputs": [
    {
     "data": {
      "text/plain": [
       "15.811388300841896"
      ]
     },
     "execution_count": 43,
     "metadata": {},
     "output_type": "execute_result"
    }
   ],
   "source": [
    "np.sqrt(250)"
   ]
  },
  {
   "cell_type": "code",
   "execution_count": null,
   "id": "b57c808c",
   "metadata": {},
   "outputs": [],
   "source": []
  }
 ],
 "metadata": {
  "kernelspec": {
   "display_name": "Python 3 (ipykernel)",
   "language": "python",
   "name": "python3"
  },
  "language_info": {
   "codemirror_mode": {
    "name": "ipython",
    "version": 3
   },
   "file_extension": ".py",
   "mimetype": "text/x-python",
   "name": "python",
   "nbconvert_exporter": "python",
   "pygments_lexer": "ipython3",
   "version": "3.9.12"
  }
 },
 "nbformat": 4,
 "nbformat_minor": 5
}
