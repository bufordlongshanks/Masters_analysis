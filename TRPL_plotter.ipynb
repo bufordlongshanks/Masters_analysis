{
 "cells": [
  {
   "cell_type": "code",
   "execution_count": 2,
   "id": "232c99bd",
   "metadata": {},
   "outputs": [],
   "source": [
    "import pandas as pd\n",
    "import numpy as np\n",
    "import matplotlib.pyplot as plt\n",
    "from scipy.optimize import curve_fit\n",
    "from scipy import signal\n",
    "import os"
   ]
  },
  {
   "cell_type": "code",
   "execution_count": 114,
   "id": "18ea7228",
   "metadata": {},
   "outputs": [
    {
     "data": {
      "text/plain": [
       "['Histogram_2023-03-24_184502.txt',\n",
       " 'Histogram_2023-03-24_184548.txt',\n",
       " 'Histogram_2023-03-24_184627.txt',\n",
       " 'Histogram_2023-03-24_184711.txt',\n",
       " 'Histogram_2023-03-24_184741.txt',\n",
       " 'Histogram_2023-03-24_184811.txt',\n",
       " 'Histogram_2023-03-24_184839.txt',\n",
       " 'Histogram_2023-03-24_184909.txt',\n",
       " 'Histogram_2023-03-24_184943.txt',\n",
       " 'Histogram_2023-03-24_185106.txt',\n",
       " 'Histogram_2023-03-24_185141.txt',\n",
       " 'Histogram_2023-03-24_185221.txt',\n",
       " 'Histogram_2023-03-24_185251.txt',\n",
       " 'Histogram_2023-03-24_185329.txt',\n",
       " 'Histogram_2023-03-24_185403.txt',\n",
       " 'Histogram_2023-03-24_185440.txt']"
      ]
     },
     "execution_count": 114,
     "metadata": {},
     "output_type": "execute_result"
    }
   ],
   "source": [
    "os.listdir( 'APD_stuff/24_04_power_TRPL_run/')"
   ]
  },
  {
   "cell_type": "code",
   "execution_count": 13,
   "id": "f3779388",
   "metadata": {},
   "outputs": [],
   "source": [
    "def expo(x,a,T,c):\n",
    "    return a*np.exp((x)*(-1/T))+c"
   ]
  },
  {
   "cell_type": "code",
   "execution_count": 14,
   "id": "bc662469",
   "metadata": {},
   "outputs": [],
   "source": [
    "def double_exp(t, a1, t1, a2, t2,c):\n",
    "    return a1*np.exp(-t/t1) + a2*np.exp(-t/t2) + c"
   ]
  },
  {
   "cell_type": "code",
   "execution_count": 174,
   "id": "d6344659",
   "metadata": {},
   "outputs": [],
   "source": [
    "def d_expo_conv(x,a1,a2,t1,t2,c):\n",
    "    ex = double_exp(x,a1,t1,a2,t2,0)\n",
    "    o = signal.convolve(ex,IRF_counts_use)+c\n",
    "    return o[:len(x)]"
   ]
  },
  {
   "cell_type": "code",
   "execution_count": 311,
   "id": "7040ac64",
   "metadata": {},
   "outputs": [],
   "source": [
    "def d_expo_conv_2(x,a1,a2,t1,t2,c):\n",
    "    ex = expo_conv(x,a1,t1,0)\n",
    "    o = ex + expo(x,a2,t2,0)+c\n",
    "    return o[:len(x)]"
   ]
  },
  {
   "cell_type": "code",
   "execution_count": 171,
   "id": "0d1c1706",
   "metadata": {},
   "outputs": [],
   "source": [
    "def t_expo_conv(x,a1,a2,a3,t1,t2,t3,c):\n",
    "    ex = expo_conv(x,a1,t1,0)\n",
    "    o = ex + expo(x,a2,t2,0) + expo(x,a3,t3,0) + c\n",
    "    return o[:len(x)]"
   ]
  },
  {
   "cell_type": "code",
   "execution_count": 170,
   "id": "90d60cd2",
   "metadata": {},
   "outputs": [],
   "source": [
    "def expo_conv(x,a,T,c):\n",
    "    ex = expo(x,a,T,0)\n",
    "    o = signal.convolve(ex,IRF_counts_use) +c\n",
    "    return o[:len(x)]"
   ]
  },
  {
   "cell_type": "code",
   "execution_count": 115,
   "id": "904672be",
   "metadata": {},
   "outputs": [],
   "source": [
    "#folder = 'Data/PerovskiteQD/2022_11_08 (narrow br3)-20221114T161242Z-001/2022_11_08 (narrow br3)/TRPL_08_11/'\n",
    "#IRF_folder = 'Data/PerovskiteQD/2022_11_08 (narrow br3)-20221114T161242Z-001/2022_11_08 (narrow br3)/TRPL_08_11/'\n",
    "folder = 'APD_stuff/24_04_power_TRPL_run/'\n",
    "IRF_folder = 'APD_stuff/16_03_trpl/'\n",
    "file = os.listdir(folder)[0] #anything but 2\n",
    "IRF_file = os.listdir(IRF_folder)[-2] # always 2"
   ]
  },
  {
   "cell_type": "code",
   "execution_count": 6,
   "id": "403e6f50",
   "metadata": {},
   "outputs": [
    {
     "data": {
      "text/plain": [
       "'APD_stuff/16_03_trpl/Histogram_2023-03-16_145129.txt'"
      ]
     },
     "execution_count": 6,
     "metadata": {},
     "output_type": "execute_result"
    }
   ],
   "source": [
    "folder+file"
   ]
  },
  {
   "cell_type": "code",
   "execution_count": 7,
   "id": "2764666f",
   "metadata": {},
   "outputs": [],
   "source": [
    "df = pd.read_csv(folder+file, delim_whitespace=True)\n",
    "df_IRF = pd.read_csv(IRF_folder+IRF_file, delim_whitespace=True)"
   ]
  },
  {
   "cell_type": "code",
   "execution_count": 9,
   "id": "737a0879",
   "metadata": {},
   "outputs": [
    {
     "data": {
      "text/plain": [
       "[<matplotlib.lines.Line2D at 0x1fd82e5e970>]"
      ]
     },
     "execution_count": 9,
     "metadata": {},
     "output_type": "execute_result"
    },
    {
     "data": {
      "image/png": "[encoded data removed]",
      "text/plain": [
       "<Figure size 432x288 with 1 Axes>"
      ]
     },
     "metadata": {
      "needs_background": "light"
     },
     "output_type": "display_data"
    }
   ],
   "source": [
    "plt.plot(df.iloc[:,1])"
   ]
  },
  {
   "cell_type": "code",
   "execution_count": 422,
   "id": "2341fce7",
   "metadata": {},
   "outputs": [
    {
     "data": {
      "text/plain": [
       "['BG_529nm_60s.dat',\n",
       " 'BG_529nm_60s.phu',\n",
       " 'IRF_450nm_60s.dat',\n",
       " 'IRF_450nm_60s.phu',\n",
       " 'PL_527nm_100uW_60s.dat',\n",
       " 'PL_527nm_100uW_60s.phu',\n",
       " 'PL_529nm_100uW_60s.dat',\n",
       " 'PL_529nm_100uW_60s.phu',\n",
       " 'PL_529nm_60s_with laser.dat',\n",
       " 'PL_529nm_60s_with laser.phu',\n",
       " 'PL_531nm_100uW_60s.dat',\n",
       " 'PL_531nm_100uW_60s.phu',\n",
       " 'PL_532nm_100uW_60s.dat',\n",
       " 'PL_532nm_100uW_60s.phu']"
      ]
     },
     "execution_count": 422,
     "metadata": {},
     "output_type": "execute_result"
    }
   ],
   "source": [
    "os.listdir()"
   ]
  },
  {
   "cell_type": "code",
   "execution_count": 429,
   "id": "fc767bb1",
   "metadata": {},
   "outputs": [],
   "source": [
    "\n",
    "file = os.listdir()[4] #anything but 2\n",
    "IRF_file = os.listdir()[2]"
   ]
  },
  {
   "cell_type": "code",
   "execution_count": 575,
   "id": "0c526f32",
   "metadata": {},
   "outputs": [
    {
     "data": {
      "text/plain": [
       "(0.0, 50.0)"
      ]
     },
     "execution_count": 575,
     "metadata": {},
     "output_type": "execute_result"
    },
    {
     "data": {
      "image/png": "[encoded data removed]",
      "text/plain": [
       "<Figure size 432x288 with 1 Axes>"
      ]
     },
     "metadata": {
      "needs_background": "light"
     },
     "output_type": "display_data"
    }
   ],
   "source": [
    "\n",
    "df = pd.read_csv(file, delim_whitespace=True, comment='#')\n",
    "df = df.iloc[3:].reset_index(drop=True)\n",
    "df.columns = ['counts']\n",
    "df['times (ns)'] = df.index*0.025\n",
    "t = df.iloc[:,1]\n",
    "counts = df.iloc[:,0]\n",
    "plt.semilogy(t,c)\n",
    "plt.xlim(0,50)"
   ]
  },
  {
   "cell_type": "code",
   "execution_count": null,
   "id": "3fcdcfb0",
   "metadata": {},
   "outputs": [],
   "source": []
  },
  {
   "cell_type": "code",
   "execution_count": 584,
   "id": "514b362d",
   "metadata": {},
   "outputs": [
    {
     "data": {
      "text/plain": [
       "[<matplotlib.lines.Line2D at 0x1aa8e78ee50>]"
      ]
     },
     "execution_count": 584,
     "metadata": {},
     "output_type": "execute_result"
    },
    {
     "data": {
      "image/png": "[encoded data removed]",
      "text/plain": [
       "<Figure size 432x288 with 1 Axes>"
      ]
     },
     "metadata": {
      "needs_background": "light"
     },
     "output_type": "display_data"
    }
   ],
   "source": [
    "df_IRF = pd.read_csv(IRF_file, delim_whitespace=True, comment='#')\n",
    "df_IRF = df_IRF[3:].reset_index(drop=True)\n",
    "df_IRF.columns = ['counts']\n",
    "df_IRF['times (ns)'] = df_IRF.index*0.025\n",
    "t_IRF = df_IRF.iloc[:,1]\n",
    "IRF_counts = df_IRF.iloc[:,0]\n",
    "plt.xlim(0,50)\n",
    "plt.semilogy(t,IRF_counts)\n",
    "plt.semilogy(t,c)"
   ]
  },
  {
   "cell_type": "code",
   "execution_count": 113,
   "id": "848b6f21",
   "metadata": {},
   "outputs": [
    {
     "data": {
      "text/plain": [
       "['Histogram_2023-03-24_184502.txt',\n",
       " 'Histogram_2023-03-24_184548.txt',\n",
       " 'Histogram_2023-03-24_184627.txt',\n",
       " 'Histogram_2023-03-24_184711.txt',\n",
       " 'Histogram_2023-03-24_184741.txt',\n",
       " 'Histogram_2023-03-24_184811.txt',\n",
       " 'Histogram_2023-03-24_184839.txt',\n",
       " 'Histogram_2023-03-24_184909.txt',\n",
       " 'Histogram_2023-03-24_184943.txt',\n",
       " 'Histogram_2023-03-24_185106.txt',\n",
       " 'Histogram_2023-03-24_185141.txt',\n",
       " 'Histogram_2023-03-24_185221.txt',\n",
       " 'Histogram_2023-03-24_185251.txt',\n",
       " 'Histogram_2023-03-24_185329.txt',\n",
       " 'Histogram_2023-03-24_185403.txt',\n",
       " 'Histogram_2023-03-24_185440.txt']"
      ]
     },
     "execution_count": 113,
     "metadata": {},
     "output_type": "execute_result"
    }
   ],
   "source": [
    "os.listdir( 'APD_stuff/24_04_power_TRPL_run/')"
   ]
  },
  {
   "cell_type": "code",
   "execution_count": 583,
   "id": "d73d65e0",
   "metadata": {},
   "outputs": [],
   "source": [
    "i = 0"
   ]
  },
  {
   "cell_type": "code",
   "execution_count": 590,
   "id": "fcb4fb5d",
   "metadata": {},
   "outputs": [
    {
     "name": "stdout",
     "output_type": "stream",
     "text": [
      "Histogram_2023-03-24_184839.txt\n"
     ]
    },
    {
     "data": {
      "image/png": "[encoded data removed]",
      "text/plain": [
       "<Figure size 432x288 with 1 Axes>"
      ]
     },
     "metadata": {
      "needs_background": "light"
     },
     "output_type": "display_data"
    }
   ],
   "source": [
    "file = os.listdir(folder)[i] #anything but 2\n",
    "IRF_file = os.listdir(IRF_folder)[-2]\n",
    "df = pd.read_csv(folder+file, delim_whitespace=True)\n",
    "df_IRF = pd.read_csv(IRF_folder+IRF_file, delim_whitespace=True)\n",
    "counts = df.iloc[:,1]\n",
    "t = df.iloc[:,0]\n",
    "IRF_counts = df_IRF.iloc[:,1]\n",
    "IRF_counts = IRF_counts[::10].reset_index(drop=True)\n",
    "peak = IRF_counts[IRF_counts>300]\n",
    "rat = max(IRF_counts)/max(counts)\n",
    "num = counts[counts>(300/rat)].index.min()\n",
    "top = max(counts)\n",
    "peak = np.array(peak)\n",
    "peak\n",
    "before = num\n",
    "after = 1000-len(peak)-before\n",
    "IRF_counts = np.concatenate((np.zeros(before),peak,np.zeros(after)))\n",
    "plt.semilogy(t,counts*rat)\n",
    "print(file)\n",
    "plt.semilogy(t,IRF_counts)\n",
    "#plt.semilogy(0,40000)\n",
    "plt.xlim(15000,30000)\n",
    "i+=1"
   ]
  },
  {
   "cell_type": "code",
   "execution_count": 594,
   "id": "3be1a65d",
   "metadata": {},
   "outputs": [],
   "source": [
    "double_fit = False\n"
   ]
  },
  {
   "cell_type": "code",
   "execution_count": 595,
   "id": "131c26b3",
   "metadata": {},
   "outputs": [
    {
     "ename": "RuntimeError",
     "evalue": "Optimal parameters not found: Number of calls to function has reached maxfev = 800.",
     "output_type": "error",
     "traceback": [
      "\u001b[1;31m---------------------------------------------------------------------------\u001b[0m",
      "\u001b[1;31mRuntimeError\u001b[0m                              Traceback (most recent call last)",
      "Input \u001b[1;32mIn [595]\u001b[0m, in \u001b[0;36m<cell line: 15>\u001b[1;34m()\u001b[0m\n\u001b[0;32m     22\u001b[0m \u001b[38;5;28;01melse\u001b[39;00m:\n\u001b[0;32m     23\u001b[0m     p0 \u001b[38;5;241m=\u001b[39m [\u001b[38;5;241m10\u001b[39m,\u001b[38;5;241m1000\u001b[39m,\u001b[38;5;241m0\u001b[39m]\n\u001b[1;32m---> 24\u001b[0m     params, unc \u001b[38;5;241m=\u001b[39m \u001b[43mcurve_fit\u001b[49m\u001b[43m(\u001b[49m\u001b[43mexpo_conv\u001b[49m\u001b[43m,\u001b[49m\u001b[43m \u001b[49m\u001b[43mt_fit\u001b[49m\u001b[43m,\u001b[49m\u001b[43m \u001b[49m\u001b[43mc_fit\u001b[49m\u001b[43m,\u001b[49m\u001b[43m \u001b[49m\u001b[43mp0\u001b[49m\u001b[38;5;241;43m=\u001b[39;49m\u001b[43mp0\u001b[49m\u001b[43m,\u001b[49m\u001b[43msigma\u001b[49m\u001b[38;5;241;43m=\u001b[39;49m\u001b[43mnp\u001b[49m\u001b[38;5;241;43m.\u001b[39;49m\u001b[43msqrt\u001b[49m\u001b[43m(\u001b[49m\u001b[43mc_fit\u001b[49m\u001b[43m)\u001b[49m\u001b[43m)\u001b[49m\n\u001b[0;32m     25\u001b[0m     plt\u001b[38;5;241m.\u001b[39msemilogy(t_use, counts,\u001b[38;5;124m'\u001b[39m\u001b[38;5;124mo\u001b[39m\u001b[38;5;124m'\u001b[39m, label\u001b[38;5;241m=\u001b[39m\u001b[38;5;124m'\u001b[39m\u001b[38;5;124msig\u001b[39m\u001b[38;5;124m'\u001b[39m,alpha\u001b[38;5;241m=\u001b[39m\u001b[38;5;241m0.1\u001b[39m,color\u001b[38;5;241m=\u001b[39m\u001b[38;5;124m'\u001b[39m\u001b[38;5;124mred\u001b[39m\u001b[38;5;124m'\u001b[39m)\n\u001b[0;32m     26\u001b[0m     plt\u001b[38;5;241m.\u001b[39msemilogy(t_fit,expo_conv(t_fit,\u001b[38;5;241m*\u001b[39mparams),label\u001b[38;5;241m=\u001b[39m\u001b[38;5;124m'\u001b[39m\u001b[38;5;124mfit\u001b[39m\u001b[38;5;124m'\u001b[39m,linewidth\u001b[38;5;241m=\u001b[39m\u001b[38;5;241m2\u001b[39m)\n",
      "File \u001b[1;32m~\\anaconda3\\lib\\site-packages\\scipy\\optimize\\minpack.py:794\u001b[0m, in \u001b[0;36mcurve_fit\u001b[1;34m(f, xdata, ydata, p0, sigma, absolute_sigma, check_finite, bounds, method, jac, **kwargs)\u001b[0m\n\u001b[0;32m    792\u001b[0m     cost \u001b[38;5;241m=\u001b[39m np\u001b[38;5;241m.\u001b[39msum(infodict[\u001b[38;5;124m'\u001b[39m\u001b[38;5;124mfvec\u001b[39m\u001b[38;5;124m'\u001b[39m] \u001b[38;5;241m*\u001b[39m\u001b[38;5;241m*\u001b[39m \u001b[38;5;241m2\u001b[39m)\n\u001b[0;32m    793\u001b[0m     \u001b[38;5;28;01mif\u001b[39;00m ier \u001b[38;5;129;01mnot\u001b[39;00m \u001b[38;5;129;01min\u001b[39;00m [\u001b[38;5;241m1\u001b[39m, \u001b[38;5;241m2\u001b[39m, \u001b[38;5;241m3\u001b[39m, \u001b[38;5;241m4\u001b[39m]:\n\u001b[1;32m--> 794\u001b[0m         \u001b[38;5;28;01mraise\u001b[39;00m \u001b[38;5;167;01mRuntimeError\u001b[39;00m(\u001b[38;5;124m\"\u001b[39m\u001b[38;5;124mOptimal parameters not found: \u001b[39m\u001b[38;5;124m\"\u001b[39m \u001b[38;5;241m+\u001b[39m errmsg)\n\u001b[0;32m    795\u001b[0m \u001b[38;5;28;01melse\u001b[39;00m:\n\u001b[0;32m    796\u001b[0m     \u001b[38;5;66;03m# Rename maxfev (leastsq) to max_nfev (least_squares), if specified.\u001b[39;00m\n\u001b[0;32m    797\u001b[0m     \u001b[38;5;28;01mif\u001b[39;00m \u001b[38;5;124m'\u001b[39m\u001b[38;5;124mmax_nfev\u001b[39m\u001b[38;5;124m'\u001b[39m \u001b[38;5;129;01mnot\u001b[39;00m \u001b[38;5;129;01min\u001b[39;00m kwargs:\n",
      "\u001b[1;31mRuntimeError\u001b[0m: Optimal parameters not found: Number of calls to function has reached maxfev = 800."
     ]
    },
    {
     "data": {
      "text/plain": [
       "<Figure size 288x144 with 0 Axes>"
      ]
     },
     "metadata": {},
     "output_type": "display_data"
    }
   ],
   "source": [
    "\n",
    "#t = df.iloc[:,0]\n",
    "#counts = df.iloc[:,1]\n",
    "off = t[counts.idxmax()]\n",
    "t_use = t-off\n",
    "plt.figure(figsize=(4,2))\n",
    "#IRF_counts = df_IRF.iloc[:,1]\n",
    "#IRF_counts  = new\n",
    "xmin = -2000\n",
    "xmax = 15000\n",
    "mask = (t_use<xmax)&(t_use>xmin)\n",
    "t_fit = t_use[mask]\n",
    "c_fit = counts[mask]\n",
    "IRF_counts_use = IRF_counts[mask]/max(IRF_counts)\n",
    "\n",
    "if double_fit==True:\n",
    "    p0 = [2,1000,300,3000,4]\n",
    "    #p0 = [0.1,100,100,0.2,0.5,5] \n",
    "    params, unc = curve_fit(d_expo_conv_2, t_fit, c_fit, p0=p0,sigma=np.sqrt(c_fit))\n",
    "    #para = [0.1,0.5,0.23,2,0.5]\n",
    "    plt.semilogy(t_use, counts,'o', label='sig',alpha=0.1,color='red')\n",
    "    plt.semilogy(t_fit,d_expo_conv_2(t_fit,*params),label='fit',linewidth=2)\n",
    "else:\n",
    "    p0 = [10,1000,0]\n",
    "    params, unc = curve_fit(expo_conv, t_fit, c_fit, p0=p0,sigma=np.sqrt(c_fit))\n",
    "    plt.semilogy(t_use, counts,'o', label='sig',alpha=0.1,color='red')\n",
    "    plt.semilogy(t_fit,expo_conv(t_fit,*params),label='fit',linewidth=2)\n",
    "    \n",
    "\n",
    "#plt.semilogy(t_use, IRF_counts,label='IRF')\n",
    "\n",
    "plt.xlim(-1000,15000)\n",
    "plt.ylim(1,max(counts)+1000)\n",
    "\n",
    "plt.xlabel('Time(ps)')\n",
    "plt.ylabel('Time Resolved PL (a.u)')\n",
    "plt.legend()\n",
    "\n",
    "print(params)\n",
    "uncs = np.sqrt(np.diag(unc))\n",
    "print(uncs)\n",
    "print(file)"
   ]
  },
  {
   "cell_type": "code",
   "execution_count": null,
   "id": "07a41739",
   "metadata": {},
   "outputs": [],
   "source": [
    "plt.semilogy(t_use,IRF_counts)\n",
    "plt.semilogy(t_use, counts)\n",
    "plt.xlim(-7000,40000)"
   ]
  },
  {
   "cell_type": "code",
   "execution_count": 211,
   "id": "606ee46f",
   "metadata": {},
   "outputs": [
    {
     "data": {
      "text/plain": [
       "0      0\n",
       "1      1\n",
       "2      2\n",
       "3      1\n",
       "4      2\n",
       "      ..\n",
       "995    1\n",
       "996    0\n",
       "997    0\n",
       "998    0\n",
       "999    0\n",
       "Name: Counts per bin, Length: 1000, dtype: int64"
      ]
     },
     "execution_count": 211,
     "metadata": {},
     "output_type": "execute_result"
    }
   ],
   "source": [
    "counts"
   ]
  },
  {
   "cell_type": "code",
   "execution_count": 492,
   "id": "fd7e0bcf",
   "metadata": {},
   "outputs": [
    {
     "ename": "NameError",
     "evalue": "name 'mini' is not defined",
     "output_type": "error",
     "traceback": [
      "\u001b[1;31m---------------------------------------------------------------------------\u001b[0m",
      "\u001b[1;31mNameError\u001b[0m                                 Traceback (most recent call last)",
      "Input \u001b[1;32mIn [492]\u001b[0m, in \u001b[0;36m<cell line: 1>\u001b[1;34m()\u001b[0m\n\u001b[1;32m----> 1\u001b[0m IRF_counts[\u001b[38;5;241m0\u001b[39m:\u001b[43mmini\u001b[49m\u001b[38;5;241m-\u001b[39m\u001b[38;5;241m4\u001b[39m] \u001b[38;5;241m=\u001b[39m \u001b[38;5;241m20\u001b[39m\n\u001b[0;32m      2\u001b[0m mini \u001b[38;5;241m=\u001b[39m IRF_counts[IRF_counts\u001b[38;5;241m>\u001b[39m\u001b[38;5;241m10000\u001b[39m]\u001b[38;5;241m.\u001b[39mindex\u001b[38;5;241m.\u001b[39mmin()\n\u001b[0;32m      3\u001b[0m plt\u001b[38;5;241m.\u001b[39mplot(IRF_counts[mini\u001b[38;5;241m-\u001b[39m\u001b[38;5;241m4\u001b[39m:mini\u001b[38;5;241m+\u001b[39m\u001b[38;5;241m100\u001b[39m])\n",
      "\u001b[1;31mNameError\u001b[0m: name 'mini' is not defined"
     ]
    }
   ],
   "source": [
    "IRF_counts[0:mini-4] = 20\n",
    "mini = IRF_counts[IRF_counts>10000].index.min()\n",
    "plt.plot(IRF_counts[mini-4:mini+100])\n"
   ]
  },
  {
   "cell_type": "code",
   "execution_count": 493,
   "id": "2fea645f",
   "metadata": {},
   "outputs": [
    {
     "data": {
      "text/plain": [
       "[<matplotlib.lines.Line2D at 0x1fd8983e6d0>]"
      ]
     },
     "execution_count": 493,
     "metadata": {},
     "output_type": "execute_result"
    },
    {
     "data": {
      "image/png": "[encoded data removed]",
      "text/plain": [
       "<Figure size 432x288 with 1 Axes>"
      ]
     },
     "metadata": {
      "needs_background": "light"
     },
     "output_type": "display_data"
    }
   ],
   "source": [
    "plt.plot(IRF_counts)"
   ]
  },
  {
   "cell_type": "code",
   "execution_count": 110,
   "id": "8f5f6d2b",
   "metadata": {},
   "outputs": [
    {
     "data": {
      "text/plain": [
       "[<matplotlib.lines.Line2D at 0x1fd88efbcd0>]"
      ]
     },
     "execution_count": 110,
     "metadata": {},
     "output_type": "execute_result"
    },
    {
     "data": {
      "image/png": "[encoded data removed]",
      "text/plain": [
       "<Figure size 432x288 with 1 Axes>"
      ]
     },
     "metadata": {
      "needs_background": "light"
     },
     "output_type": "display_data"
    }
   ],
   "source": [
    "IRF_short = IRF_counts[::10]\n",
    "plt.plot(IRF_short)"
   ]
  },
  {
   "cell_type": "code",
   "execution_count": 111,
   "id": "95cc097b",
   "metadata": {},
   "outputs": [
    {
     "data": {
      "text/plain": [
       "0       26\n",
       "10      30\n",
       "20      24\n",
       "30      27\n",
       "40      27\n",
       "        ..\n",
       "9950    30\n",
       "9960    17\n",
       "9970    26\n",
       "9980    26\n",
       "9990    22\n",
       "Name: Counts per bin, Length: 1000, dtype: int64"
      ]
     },
     "execution_count": 111,
     "metadata": {},
     "output_type": "execute_result"
    }
   ],
   "source": [
    "IRF_short"
   ]
  },
  {
   "cell_type": "code",
   "execution_count": 119,
   "id": "95008ea6",
   "metadata": {},
   "outputs": [],
   "source": [
    "IRF_counts = df_IRF.iloc[:,1]\n",
    "IRF_counts = IRF_counts[::10]"
   ]
  },
  {
   "cell_type": "code",
   "execution_count": 120,
   "id": "4bd62cce",
   "metadata": {},
   "outputs": [
    {
     "data": {
      "text/plain": [
       "0       26\n",
       "10      30\n",
       "20      24\n",
       "30      27\n",
       "40      27\n",
       "        ..\n",
       "9950    30\n",
       "9960    17\n",
       "9970    26\n",
       "9980    26\n",
       "9990    22\n",
       "Name: Counts per bin, Length: 1000, dtype: int64"
      ]
     },
     "execution_count": 120,
     "metadata": {},
     "output_type": "execute_result"
    }
   ],
   "source": [
    "IRF_counts"
   ]
  },
  {
   "cell_type": "code",
   "execution_count": null,
   "id": "291c4428",
   "metadata": {},
   "outputs": [],
   "source": []
  }
 ],
 "metadata": {
  "kernelspec": {
   "display_name": "Python 3 (ipykernel)",
   "language": "python",
   "name": "python3"
  },
  "language_info": {
   "codemirror_mode": {
    "name": "ipython",
    "version": 3
   },
   "file_extension": ".py",
   "mimetype": "text/x-python",
   "name": "python",
   "nbconvert_exporter": "python",
   "pygments_lexer": "ipython3",
   "version": "3.9.12"
  }
 },
 "nbformat": 4,
 "nbformat_minor": 5
}
