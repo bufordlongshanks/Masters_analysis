{
 "cells": [
  {
   "cell_type": "code",
   "execution_count": 2,
   "id": "30f27e9c",
   "metadata": {},
   "outputs": [],
   "source": [
    "import pandas as pd\n",
    "import numpy as np\n",
    "import matplotlib.pyplot as plt\n",
    "import os\n"
   ]
  },
  {
   "cell_type": "code",
   "execution_count": 3,
   "id": "376dd435",
   "metadata": {},
   "outputs": [
    {
     "data": {
      "text/html": [
       "<div>\n",
       "<style scoped>\n",
       "    .dataframe tbody tr th:only-of-type {\n",
       "        vertical-align: middle;\n",
       "    }\n",
       "\n",
       "    .dataframe tbody tr th {\n",
       "        vertical-align: top;\n",
       "    }\n",
       "\n",
       "    .dataframe thead th {\n",
       "        text-align: right;\n",
       "    }\n",
       "</style>\n",
       "<table border=\"1\" class=\"dataframe\">\n",
       "  <thead>\n",
       "    <tr style=\"text-align: right;\">\n",
       "      <th></th>\n",
       "      <th>Time (ps)</th>\n",
       "      <th>Channel 1 - Counts per bin</th>\n",
       "    </tr>\n",
       "  </thead>\n",
       "  <tbody>\n",
       "    <tr>\n",
       "      <th>0</th>\n",
       "      <td>0</td>\n",
       "      <td>0</td>\n",
       "    </tr>\n",
       "    <tr>\n",
       "      <th>1</th>\n",
       "      <td>10000000000</td>\n",
       "      <td>2</td>\n",
       "    </tr>\n",
       "    <tr>\n",
       "      <th>2</th>\n",
       "      <td>20000000000</td>\n",
       "      <td>1</td>\n",
       "    </tr>\n",
       "    <tr>\n",
       "      <th>3</th>\n",
       "      <td>30000000000</td>\n",
       "      <td>3</td>\n",
       "    </tr>\n",
       "    <tr>\n",
       "      <th>4</th>\n",
       "      <td>40000000000</td>\n",
       "      <td>2</td>\n",
       "    </tr>\n",
       "  </tbody>\n",
       "</table>\n",
       "</div>"
      ],
      "text/plain": [
       "     Time (ps)  Channel 1 - Counts per bin\n",
       "0            0                           0\n",
       "1  10000000000                           2\n",
       "2  20000000000                           1\n",
       "3  30000000000                           3\n",
       "4  40000000000                           2"
      ]
     },
     "execution_count": 3,
     "metadata": {},
     "output_type": "execute_result"
    }
   ],
   "source": [
    "df = pd.read_csv('APD_stuff/23_03_low_power_run/Counter_time_trace_2023-03-23_154824.txt', delim_whitespace=True)\n",
    "df.head()"
   ]
  },
  {
   "cell_type": "code",
   "execution_count": 4,
   "id": "d05f4212",
   "metadata": {},
   "outputs": [
    {
     "data": {
      "text/plain": [
       "Text(0.5, 1.0, 'Counts over a 10s interval')"
      ]
     },
     "execution_count": 4,
     "metadata": {},
     "output_type": "execute_result"
    },
    {
     "data": {
      "image/png": "[encoded data removed]",
      "text/plain": [
       "<Figure size 432x288 with 1 Axes>"
      ]
     },
     "metadata": {
      "needs_background": "light"
     },
     "output_type": "display_data"
    }
   ],
   "source": [
    "x1 = df.columns[0]\n",
    "y1 = df.columns[1]\n",
    "plt.plot(df[x1], df[y1])\n",
    "plt.xlabel(x1)\n",
    "plt.ylabel(y1)\n",
    "plt.title('Counts over a 10s interval')\n",
    "\n"
   ]
  },
  {
   "cell_type": "code",
   "execution_count": 5,
   "id": "fd73792a",
   "metadata": {},
   "outputs": [],
   "source": [
    "\n",
    "power_data_1 = [0.03,0.05,0.06,0.07,0.08,0.09,0.1, 0.11, 0.12,0.14,0.16,0.18,0.2,0.23,0.26,0.29,0.32,0.35,0.4,0.45,0.5,0.6, 1, 0.8, 1.2, 1.5, 2, 2.5, 3, 4]"
   ]
  },
  {
   "cell_type": "code",
   "execution_count": 20,
   "id": "5828c997",
   "metadata": {},
   "outputs": [
    {
     "name": "stdout",
     "output_type": "stream",
     "text": [
      "['Counter_time_trace_2023-03-23_154824.txt', 'Counter_time_trace_2023-03-23_155011.txt', 'Counter_time_trace_2023-03-23_155145.txt', 'Counter_time_trace_2023-03-23_155314.txt', 'Counter_time_trace_2023-03-23_155447.txt', 'Counter_time_trace_2023-03-23_155627.txt', 'Counter_time_trace_2023-03-23_155805.txt', 'Counter_time_trace_2023-03-23_155939.txt', 'Counter_time_trace_2023-03-23_160121.txt', 'Counter_time_trace_2023-03-23_160250.txt', 'Counter_time_trace_2023-03-23_160434.txt', 'Counter_time_trace_2023-03-23_160605.txt', 'Counter_time_trace_2023-03-23_160736.txt', 'Counter_time_trace_2023-03-23_160905.txt', 'Counter_time_trace_2023-03-23_161034.txt', 'Counter_time_trace_2023-03-23_161213.txt', 'Counter_time_trace_2023-03-23_161335.txt', 'Counter_time_trace_2023-03-23_161508.txt', 'Counter_time_trace_2023-03-23_161633.txt', 'Counter_time_trace_2023-03-23_161815.txt']\n"
     ]
    }
   ],
   "source": [
    "power_files_1 = os.listdir('APD_stuff/23_03_low_power_run')[6:26]\n",
    "print(power_files_1)"
   ]
  },
  {
   "cell_type": "code",
   "execution_count": 21,
   "id": "805f270a",
   "metadata": {},
   "outputs": [
    {
     "data": {
      "text/plain": [
       "Text(0.5, 1.0, 'Counts vs Power run 1')"
      ]
     },
     "execution_count": 21,
     "metadata": {},
     "output_type": "execute_result"
    },
    {
     "data": {
      "image/png": "[encoded data removed]",
      "text/plain": [
       "<Figure size 432x288 with 1 Axes>"
      ]
     },
     "metadata": {
      "needs_background": "light"
     },
     "output_type": "display_data"
    }
   ],
   "source": [
    "pts = np.shape(power_files_1)[0]\n",
    "data_1 = np.zeros((pts, 2))\n",
    "for i in range(pts):\n",
    "    name =power_files_1[i]\n",
    "    df = pd.read_csv('APD_stuff/23_03_low_power_run/'+name, delim_whitespace=True)\n",
    "    y1 = df.columns[1]\n",
    "    data_1[i, 0] = power_data_1[i]\n",
    "    data_1[i, 1] = np.sum(df[y1])\n",
    "plt.plot(data_1[:, 0], data_1[:, 1],'o')\n",
    "plt.xlabel('Power/uW')\n",
    "plt.ylabel('Counts/60s')\n",
    "plt.title('Counts vs Power run 1')\n",
    "\n",
    "    \n",
    "    "
   ]
  },
  {
   "cell_type": "code",
   "execution_count": 22,
   "id": "8e068682",
   "metadata": {},
   "outputs": [
    {
     "name": "stdout",
     "output_type": "stream",
     "text": [
      "['Counter_time_trace_2023-03-23_154026.txt', 'Counter_time_trace_2023-03-23_154142.txt', 'Counter_time_trace_2023-03-23_154234.txt', 'Counter_time_trace_2023-03-23_154327.txt', 'Counter_time_trace_2023-03-23_154439.txt', 'Counter_time_trace_2023-03-23_154612.txt']\n"
     ]
    }
   ],
   "source": [
    "power_files_2 = os.listdir('APD_stuff/23_03_low_power_run')[:6]\n",
    "print(power_files_2)"
   ]
  },
  {
   "cell_type": "code",
   "execution_count": 9,
   "id": "db6820eb",
   "metadata": {},
   "outputs": [],
   "source": [
    "power_data_2 = [0.07, 0.1, 0.15, 0.2, 0.25, 0.3]"
   ]
  },
  {
   "cell_type": "code",
   "execution_count": 12,
   "id": "60a2d8d2",
   "metadata": {},
   "outputs": [
    {
     "data": {
      "text/plain": [
       "Text(0.5, 1.0, 'Counts vs Power run 2')"
      ]
     },
     "execution_count": 12,
     "metadata": {},
     "output_type": "execute_result"
    },
    {
     "data": {
      "image/png": "[encoded data removed]",
      "text/plain": [
       "<Figure size 432x288 with 1 Axes>"
      ]
     },
     "metadata": {
      "needs_background": "light"
     },
     "output_type": "display_data"
    }
   ],
   "source": [
    "pts = np.shape(power_files_2)[0]\n",
    "data_2 = np.zeros((pts, 2))\n",
    "for i in range(pts):\n",
    "    name =power_files_2[i]\n",
    "    df = pd.read_csv('APD_stuff/23_03_low_power_run/'+name, delim_whitespace=True)\n",
    "    y1 = df.columns[1]\n",
    "    data_2[i, 0] = power_data_2[i]\n",
    "    data_2[i, 1] = np.sum(df[y1])\n",
    "plt.scatter(data_2[:, 0], data_2[:, 1])\n",
    "plt.xlabel('Power/uW')\n",
    "plt.ylabel('Counts/60s')\n",
    "plt.title('Counts vs Power run 2')\n"
   ]
  },
  {
   "cell_type": "code",
   "execution_count": 13,
   "id": "edaca42f",
   "metadata": {},
   "outputs": [
    {
     "data": {
      "text/plain": [
       "<matplotlib.legend.Legend at 0x249affc2850>"
      ]
     },
     "execution_count": 13,
     "metadata": {},
     "output_type": "execute_result"
    },
    {
     "data": {
      "image/png": "[encoded data removed]",
      "text/plain": [
       "<Figure size 432x288 with 1 Axes>"
      ]
     },
     "metadata": {
      "needs_background": "light"
     },
     "output_type": "display_data"
    }
   ],
   "source": [
    "plt.scatter(data_1[:,0], data_1[:,1], label='run_1')\n",
    "#plt.scatter(data_2[:, 0], data_2[:, 1], label='run_2')\n",
    "plt.xlabel('Power/uW')\n",
    "plt.ylabel('Counts/10s')\n",
    "plt.title('Counts vs Power run')\n",
    "plt.legend()"
   ]
  },
  {
   "cell_type": "code",
   "execution_count": null,
   "id": "d274cc34",
   "metadata": {},
   "outputs": [],
   "source": []
  }
 ],
 "metadata": {
  "kernelspec": {
   "display_name": "Python 3 (ipykernel)",
   "language": "python",
   "name": "python3"
  },
  "language_info": {
   "codemirror_mode": {
    "name": "ipython",
    "version": 3
   },
   "file_extension": ".py",
   "mimetype": "text/x-python",
   "name": "python",
   "nbconvert_exporter": "python",
   "pygments_lexer": "ipython3",
   "version": "3.9.12"
  }
 },
 "nbformat": 4,
 "nbformat_minor": 5
}
